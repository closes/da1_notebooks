{
 "cells": [
  {
   "cell_type": "markdown",
   "metadata": {},
   "source": [
    "# 1: histogram generator"
   ]
  },
  {
   "cell_type": "code",
   "execution_count": 1,
   "metadata": {},
   "outputs": [
    {
     "data": {
      "application/vnd.jupyter.widget-view+json": {
       "model_id": "c53b75ccbaf14275b936bc75f3b5e30c",
       "version_major": 2,
       "version_minor": 0
      },
      "text/plain": [
       "interactive(children=(FloatSlider(value=0.0, description='mean', max=5.01, min=-5.0, step=1.0), FloatSlider(va…"
      ]
     },
     "metadata": {},
     "output_type": "display_data"
    }
   ],
   "source": [
    "from scipy.stats import skewnorm\n",
    "from ipywidgets import interactive\n",
    "import numpy as np\n",
    "import matplotlib.pyplot as plt\n",
    "%matplotlib inline\n",
    "plt.ion()\n",
    "def convert_to_alpha(s):\n",
    "    d=(np.pi/2*((abs(s)**(2/3))/(abs(s)**(2/3)+((4-np.pi)/2)**(2/3))))**0.5 \n",
    "    a=((d)/((1-d**2)**.5))\n",
    "    if s < 0:\n",
    "        a = -a\n",
    "    return a\n",
    "\n",
    "def realign_data(y,mean,stdev):\n",
    "    y = y - np.mean(y)\n",
    "    y = y/np.std(y)\n",
    "    y = y*stdev\n",
    "    y = y+mean\n",
    "    return y\n",
    "\n",
    "def plotpdf(mean=0.0,stdev=1.0,skew=0.0,npts=250):\n",
    "    x = np.linspace(-5,5,100)\n",
    "    pdf = skewnorm(convert_to_alpha(skew),loc=mean,scale=stdev)\n",
    "    y = pdf.pdf(x)\n",
    "    data = pdf.rvs(npts)\n",
    "    data = realign_data(data,mean,stdev)\n",
    "    mn,var=pdf.stats(moments='mv')\n",
    "    xtrans = x-mn\n",
    "    xtrans = mean+(xtrans*stdev/np.sqrt(var))\n",
    "    plt.figure(1,figsize=(12,5))\n",
    "    plt.subplot(121)\n",
    "    nbins=np.min([npts//10,50])\n",
    "    (N,xbins,_)=plt.hist(data,bins=nbins)\n",
    "    midx = xbins[:-1]+(np.diff(xbins)/2)\n",
    "    midy = pdf.pdf(midx)\n",
    "    mult=np.sum(np.diff(xbins)*N)/np.sum(np.diff(xbins*stdev/np.sqrt(var))*midy)\n",
    "    plt.plot(xtrans,y*mult,'k-')\n",
    "    mline=plt.axvline(np.mean(data),color='r',linestyle='--',linewidth=2,label='Mean')\n",
    "    dline=plt.axvline(np.median(data),color='k',linestyle='--',linewidth=2,label='Median')\n",
    "    plt.xlim(-4.5,4.5)\n",
    "    plt.ylim(0,npts//10)\n",
    "    plt.legend()\n",
    "    plt.title('Histogram of data')\n",
    "    plt.subplot(122)\n",
    "    plt.plot(data[::5],'k.-')\n",
    "    plt.axhline(np.mean(data),color='r',linestyle='--')\n",
    "    plt.ylim(-5,5)\n",
    "    plt.title('Sample of randomly-generated data\\n with the given parameters')\n",
    "    return\n",
    "\n",
    "iplot = interactive(plotpdf,mean=(-5.0,5.01,1.0),stdev=(0.1,2.1,0.2),skew=(-0.9,0.92,0.1),npts=(250,5001,250));\n",
    "output = iplot.children[-1];\n",
    "output.layout.height = '350px'\n",
    "iplot"
   ]
  },
  {
   "cell_type": "markdown",
   "metadata": {},
   "source": [
    "# 2: effect of outliers on quartile values, and on the mean +/- std"
   ]
  },
  {
   "cell_type": "code",
   "execution_count": 2,
   "metadata": {},
   "outputs": [
    {
     "data": {
      "application/vnd.jupyter.widget-view+json": {
       "model_id": "e1269c9fc4f749259c5abac1d2c8aaca",
       "version_major": 2,
       "version_minor": 0
      },
      "text/plain": [
       "interactive(children=(FloatSlider(value=0.0, description='mean', max=3.01, min=-3.0, step=1.0), FloatSlider(va…"
      ]
     },
     "metadata": {},
     "output_type": "display_data"
    }
   ],
   "source": [
    "from scipy.stats import iqr\n",
    "from ipywidgets import interactive\n",
    "import numpy as np\n",
    "import matplotlib.pyplot as plt\n",
    "%matplotlib inline\n",
    "plt.ion()\n",
    "\n",
    "\n",
    "def plotpdf(mean=0.0,stdev=1.0,npts=250,pc_anomalies=0):\n",
    "    np.random.seed(42)\n",
    "    xcore = np.random.normal(loc=mean,scale=stdev,size=npts)\n",
    "    N,xbins=np.histogram(xcore,bins=30)\n",
    "    xd = np.mean(np.diff(xbins))\n",
    "    xbins = np.arange(-4,12,xd)\n",
    "    if pc_anomalies > 0:\n",
    "        xanom = np.random.normal(loc=mean+(6*stdev), scale=2*stdev,\n",
    "                                 size=np.round(npts*pc_anomalies//100).astype(int))\n",
    "        data = np.append(xcore,xanom)\n",
    "    else:\n",
    "        data = xcore\n",
    "    plt.figure(1,figsize=(6,5))\n",
    "    plt.hist(data,bins=xbins)\n",
    "    mline=plt.axvline(np.mean(data),color='r',linestyle='--',linewidth=2,label='Mean')\n",
    "    dline=plt.axvline(np.median(data),color='k',linestyle='--',linewidth=2,label='Median')\n",
    "    mslow=plt.axvline(np.mean(data)-np.std(data),color='r',linestyle='-',linewidth=2,label='1 s.d.')\n",
    "    mshi=plt.axvline(np.mean(data)+np.std(data),color='r',linestyle='-',linewidth=2)\n",
    "    q3=plt.axvline(np.percentile(data,75),color='k',linestyle='-',linewidth=2,label='Q1/3')\n",
    "    q1=plt.axvline(np.percentile(data,25),color='k',linestyle='-',linewidth=2)\n",
    "    plt.ylim(0,npts//8)\n",
    "    plt.xlim(-4,12)\n",
    "    plt.legend()\n",
    "    return\n",
    "\n",
    "iplot = interactive(plotpdf,mean=(-3.0,3.01,1.0),stdev=(0.1,2.1,0.2),npts=(250,5001,250),pc_anomalies=(0,10.5,1));\n",
    "output = iplot.children[-1];\n",
    "output.layout.height = '350px'\n",
    "iplot"
   ]
  },
  {
   "cell_type": "code",
   "execution_count": null,
   "metadata": {},
   "outputs": [],
   "source": []
  },
  {
   "cell_type": "code",
   "execution_count": null,
   "metadata": {},
   "outputs": [],
   "source": []
  }
 ],
 "metadata": {
  "kernelspec": {
   "display_name": "Python 3",
   "language": "python",
   "name": "python3"
  },
  "language_info": {
   "codemirror_mode": {
    "name": "ipython",
    "version": 3
   },
   "file_extension": ".py",
   "mimetype": "text/x-python",
   "name": "python",
   "nbconvert_exporter": "python",
   "pygments_lexer": "ipython3",
   "version": "3.8.2"
  }
 },
 "nbformat": 4,
 "nbformat_minor": 4
}
